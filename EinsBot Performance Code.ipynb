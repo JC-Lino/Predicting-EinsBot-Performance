{
 "cells": [
  {
   "cell_type": "markdown",
   "id": "bd60d69e",
   "metadata": {},
   "source": [
    "# EINSBOT PERFORMANCE"
   ]
  },
  {
   "cell_type": "markdown",
   "id": "ff89e085",
   "metadata": {},
   "source": [
    "**LIBRARIES**"
   ]
  },
  {
   "cell_type": "code",
   "execution_count": 1,
   "id": "09b38b99",
   "metadata": {},
   "outputs": [],
   "source": [
    "import pandas as pd\n",
    "import numpy as np\n",
    "import pickle\n",
    "from sklearn.linear_model import LinearRegression, Ridge\n",
    "from sklearn.metrics import mean_absolute_error"
   ]
  },
  {
   "cell_type": "markdown",
   "id": "fbe6f563",
   "metadata": {},
   "source": [
    "**1. IMPORT DATA**"
   ]
  },
  {
   "cell_type": "code",
   "execution_count": 2,
   "id": "3ac01694",
   "metadata": {},
   "outputs": [],
   "source": [
    "readings = pd.read_csv(\"EinsBotReadings.csv\")"
   ]
  },
  {
   "cell_type": "code",
   "execution_count": 3,
   "id": "cf3b599c",
   "metadata": {},
   "outputs": [
    {
     "data": {
      "text/html": [
       "<div>\n",
       "<style scoped>\n",
       "    .dataframe tbody tr th:only-of-type {\n",
       "        vertical-align: middle;\n",
       "    }\n",
       "\n",
       "    .dataframe tbody tr th {\n",
       "        vertical-align: top;\n",
       "    }\n",
       "\n",
       "    .dataframe thead th {\n",
       "        text-align: right;\n",
       "    }\n",
       "</style>\n",
       "<table border=\"1\" class=\"dataframe\">\n",
       "  <thead>\n",
       "    <tr style=\"text-align: right;\">\n",
       "      <th></th>\n",
       "      <th>Displacement</th>\n",
       "      <th>Input Parameter A</th>\n",
       "      <th>Input Parameter B</th>\n",
       "      <th>Output Parameter</th>\n",
       "      <th>Input Parameter C</th>\n",
       "    </tr>\n",
       "  </thead>\n",
       "  <tbody>\n",
       "    <tr>\n",
       "      <th>0</th>\n",
       "      <td>-20.0</td>\n",
       "      <td>-58.0</td>\n",
       "      <td>-45.0</td>\n",
       "      <td>20.0</td>\n",
       "      <td>13.00</td>\n",
       "    </tr>\n",
       "    <tr>\n",
       "      <th>1</th>\n",
       "      <td>-19.9</td>\n",
       "      <td>-57.7</td>\n",
       "      <td>-44.8</td>\n",
       "      <td>19.9</td>\n",
       "      <td>12.95</td>\n",
       "    </tr>\n",
       "    <tr>\n",
       "      <th>2</th>\n",
       "      <td>-19.8</td>\n",
       "      <td>-57.4</td>\n",
       "      <td>-44.6</td>\n",
       "      <td>19.8</td>\n",
       "      <td>12.90</td>\n",
       "    </tr>\n",
       "    <tr>\n",
       "      <th>3</th>\n",
       "      <td>-19.7</td>\n",
       "      <td>-57.1</td>\n",
       "      <td>-44.4</td>\n",
       "      <td>19.7</td>\n",
       "      <td>12.85</td>\n",
       "    </tr>\n",
       "    <tr>\n",
       "      <th>4</th>\n",
       "      <td>-19.6</td>\n",
       "      <td>-56.8</td>\n",
       "      <td>-44.2</td>\n",
       "      <td>19.6</td>\n",
       "      <td>12.80</td>\n",
       "    </tr>\n",
       "  </tbody>\n",
       "</table>\n",
       "</div>"
      ],
      "text/plain": [
       "   Displacement  Input Parameter A  Input Parameter B  Output Parameter  \\\n",
       "0         -20.0              -58.0              -45.0              20.0   \n",
       "1         -19.9              -57.7              -44.8              19.9   \n",
       "2         -19.8              -57.4              -44.6              19.8   \n",
       "3         -19.7              -57.1              -44.4              19.7   \n",
       "4         -19.6              -56.8              -44.2              19.6   \n",
       "\n",
       "   Input Parameter C  \n",
       "0              13.00  \n",
       "1              12.95  \n",
       "2              12.90  \n",
       "3              12.85  \n",
       "4              12.80  "
      ]
     },
     "execution_count": 3,
     "metadata": {},
     "output_type": "execute_result"
    }
   ],
   "source": [
    "readings.head()"
   ]
  },
  {
   "cell_type": "code",
   "execution_count": 4,
   "id": "9fd6e0b6",
   "metadata": {},
   "outputs": [
    {
     "name": "stdout",
     "output_type": "stream",
     "text": [
      "<class 'pandas.core.frame.DataFrame'>\n",
      "RangeIndex: 400 entries, 0 to 399\n",
      "Data columns (total 5 columns):\n",
      " #   Column             Non-Null Count  Dtype  \n",
      "---  ------             --------------  -----  \n",
      " 0   Displacement       400 non-null    float64\n",
      " 1   Input Parameter A  400 non-null    float64\n",
      " 2   Input Parameter B  400 non-null    float64\n",
      " 3   Output Parameter   400 non-null    float64\n",
      " 4   Input Parameter C  400 non-null    float64\n",
      "dtypes: float64(5)\n",
      "memory usage: 15.8 KB\n"
     ]
    }
   ],
   "source": [
    "readings.info()"
   ]
  },
  {
   "cell_type": "markdown",
   "id": "f9893908",
   "metadata": {},
   "source": [
    "**2. DATA SPLITTING**"
   ]
  },
  {
   "cell_type": "markdown",
   "id": "54c5fbcc",
   "metadata": {},
   "source": [
    "**2.1 Vertical Split**"
   ]
  },
  {
   "cell_type": "code",
   "execution_count": 5,
   "id": "4a72074b",
   "metadata": {},
   "outputs": [
    {
     "data": {
      "text/html": [
       "<div>\n",
       "<style scoped>\n",
       "    .dataframe tbody tr th:only-of-type {\n",
       "        vertical-align: middle;\n",
       "    }\n",
       "\n",
       "    .dataframe tbody tr th {\n",
       "        vertical-align: top;\n",
       "    }\n",
       "\n",
       "    .dataframe thead th {\n",
       "        text-align: right;\n",
       "    }\n",
       "</style>\n",
       "<table border=\"1\" class=\"dataframe\">\n",
       "  <thead>\n",
       "    <tr style=\"text-align: right;\">\n",
       "      <th></th>\n",
       "      <th>Displacement</th>\n",
       "      <th>Input Parameter A</th>\n",
       "      <th>Input Parameter B</th>\n",
       "      <th>Input Parameter C</th>\n",
       "    </tr>\n",
       "  </thead>\n",
       "  <tbody>\n",
       "    <tr>\n",
       "      <th>0</th>\n",
       "      <td>-20.0</td>\n",
       "      <td>-58.0</td>\n",
       "      <td>-45.0</td>\n",
       "      <td>13.00</td>\n",
       "    </tr>\n",
       "    <tr>\n",
       "      <th>1</th>\n",
       "      <td>-19.9</td>\n",
       "      <td>-57.7</td>\n",
       "      <td>-44.8</td>\n",
       "      <td>12.95</td>\n",
       "    </tr>\n",
       "    <tr>\n",
       "      <th>2</th>\n",
       "      <td>-19.8</td>\n",
       "      <td>-57.4</td>\n",
       "      <td>-44.6</td>\n",
       "      <td>12.90</td>\n",
       "    </tr>\n",
       "    <tr>\n",
       "      <th>3</th>\n",
       "      <td>-19.7</td>\n",
       "      <td>-57.1</td>\n",
       "      <td>-44.4</td>\n",
       "      <td>12.85</td>\n",
       "    </tr>\n",
       "    <tr>\n",
       "      <th>4</th>\n",
       "      <td>-19.6</td>\n",
       "      <td>-56.8</td>\n",
       "      <td>-44.2</td>\n",
       "      <td>12.80</td>\n",
       "    </tr>\n",
       "  </tbody>\n",
       "</table>\n",
       "</div>"
      ],
      "text/plain": [
       "   Displacement  Input Parameter A  Input Parameter B  Input Parameter C\n",
       "0         -20.0              -58.0              -45.0              13.00\n",
       "1         -19.9              -57.7              -44.8              12.95\n",
       "2         -19.8              -57.4              -44.6              12.90\n",
       "3         -19.7              -57.1              -44.4              12.85\n",
       "4         -19.6              -56.8              -44.2              12.80"
      ]
     },
     "execution_count": 5,
     "metadata": {},
     "output_type": "execute_result"
    }
   ],
   "source": [
    "# Define target and features\n",
    "target = \"Output Parameter\"\n",
    "features = [\"Displacement\", \"Input Parameter A\", \"Input Parameter B\", \"Input Parameter C\"]\n",
    "y = readings[target]\n",
    "X = readings[features]\n",
    "X.head()"
   ]
  },
  {
   "cell_type": "markdown",
   "id": "4b879c19",
   "metadata": {},
   "source": [
    "**2.2 Horizontal Split**"
   ]
  },
  {
   "cell_type": "code",
   "execution_count": 6,
   "id": "aff7eb76",
   "metadata": {},
   "outputs": [],
   "source": [
    "# Split the data into train and test\n",
    "cutoff = int(len(X) * 0.8)\n",
    "X_train, y_train = X.iloc[ :cutoff], y.iloc[:cutoff]\n",
    "X_test, y_test = X.iloc[cutoff: ], y.iloc[cutoff: ]"
   ]
  },
  {
   "cell_type": "markdown",
   "id": "8b36eb6b",
   "metadata": {},
   "source": [
    "**3. MODEL BUILDING**"
   ]
  },
  {
   "cell_type": "markdown",
   "id": "0467e25a",
   "metadata": {},
   "source": [
    "**3.1 Setting the model MAE baseline**"
   ]
  },
  {
   "cell_type": "code",
   "execution_count": 7,
   "id": "78d9d9b4",
   "metadata": {},
   "outputs": [
    {
     "name": "stdout",
     "output_type": "stream",
     "text": [
      "Mean Output Parameter value: 4.05\n",
      "Baseline MAE: 8.0\n"
     ]
    }
   ],
   "source": [
    "y_mean = y_train.mean()\n",
    "y_pred_baseline = [y_mean]*len(y_train)\n",
    "print(\"Mean Output Parameter value:\", round(y_mean, 2))\n",
    "print(\"Baseline MAE:\", mean_absolute_error(y_train, y_pred_baseline))"
   ]
  },
  {
   "cell_type": "markdown",
   "id": "873e4410",
   "metadata": {},
   "source": [
    "**3.2 Model Iteration**"
   ]
  },
  {
   "cell_type": "code",
   "execution_count": 8,
   "id": "f00fadd5",
   "metadata": {},
   "outputs": [
    {
     "data": {
      "text/plain": [
       "LinearRegression()"
      ]
     },
     "execution_count": 8,
     "metadata": {},
     "output_type": "execute_result"
    }
   ],
   "source": [
    "model = LinearRegression()\n",
    "model.fit(X_train, y_train)"
   ]
  },
  {
   "cell_type": "markdown",
   "id": "ee33513a",
   "metadata": {},
   "source": [
    "**3.3 Model Evaluation**"
   ]
  },
  {
   "cell_type": "code",
   "execution_count": 9,
   "id": "a6f6a2f8",
   "metadata": {},
   "outputs": [
    {
     "name": "stdout",
     "output_type": "stream",
     "text": [
      "Training MAE: 0.0\n",
      "Test MAE: 0.0\n"
     ]
    }
   ],
   "source": [
    "training_mae = mean_absolute_error(y_train, model.predict(X_train))\n",
    "test_mae = mean_absolute_error(y_test, model.predict(X_test))\n",
    "print(\"Training MAE:\", round(training_mae, 2))\n",
    "print(\"Test MAE:\", round(test_mae, 2))"
   ]
  },
  {
   "cell_type": "markdown",
   "id": "5bedfaea",
   "metadata": {},
   "source": [
    "**4. SAVING THE MODEL**"
   ]
  },
  {
   "cell_type": "code",
   "execution_count": 10,
   "id": "0bb469c9",
   "metadata": {},
   "outputs": [],
   "source": [
    "filename = 'model.pkl'\n",
    "pickle.dump(model, open(filename, 'wb'))"
   ]
  },
  {
   "cell_type": "code",
   "execution_count": null,
   "id": "6b65ffeb",
   "metadata": {},
   "outputs": [],
   "source": []
  }
 ],
 "metadata": {
  "kernelspec": {
   "display_name": "Python 3 (ipykernel)",
   "language": "python",
   "name": "python3"
  },
  "language_info": {
   "codemirror_mode": {
    "name": "ipython",
    "version": 3
   },
   "file_extension": ".py",
   "mimetype": "text/x-python",
   "name": "python",
   "nbconvert_exporter": "python",
   "pygments_lexer": "ipython3",
   "version": "3.9.12"
  }
 },
 "nbformat": 4,
 "nbformat_minor": 5
}
